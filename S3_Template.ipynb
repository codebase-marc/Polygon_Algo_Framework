{
 "cells": [
  {
   "cell_type": "code",
   "execution_count": 6,
   "id": "fd6f8648",
   "metadata": {},
   "outputs": [],
   "source": [
    "#conda install boto3\n",
    "#pip install boto3"
   ]
  },
  {
   "cell_type": "markdown",
   "id": "b771cbc6",
   "metadata": {},
   "source": [
    "# This is a Python notebook that works to store S3 endpoint credentials and resources/functions to hit against the Polygon API (written in Julia right now but could be converted to Python)"
   ]
  },
  {
   "cell_type": "code",
   "execution_count": 55,
   "id": "6d76a0d4",
   "metadata": {},
   "outputs": [],
   "source": [
    "#pip install boto3\n",
    "import boto3\n",
    "\n",
    "s3 = boto3.resource(\n",
    "    service_name='s3',\n",
    "    region_name='us-east-1',\n",
    "    aws_access_key_id='****************',\n",
    "    aws_secret_access_key='/****************'\n",
    ")"
   ]
  },
  {
   "cell_type": "code",
   "execution_count": 56,
   "id": "58ffb53f",
   "metadata": {},
   "outputs": [
    {
     "name": "stdout",
     "output_type": "stream",
     "text": [
      "bad-expeditions-s3bucket\n"
     ]
    }
   ],
   "source": [
    "# Print out bucket names in our S3 (Space/Workspace/Environment?? Anyone know the right way to call it?)\n",
    "for bucket in s3.buckets.all():\n",
    "    print(bucket.name)"
   ]
  },
  {
   "cell_type": "code",
   "execution_count": 1,
   "id": "0bb91c91",
   "metadata": {},
   "outputs": [],
   "source": [
    "# Now start writing in some read/write/management functions from the boto3 API\n",
    "    # https://boto3.amazonaws.com/v1/documentation/api/latest/index.html"
   ]
  },
  {
   "cell_type": "code",
   "execution_count": 2,
   "id": "3dff8724",
   "metadata": {},
   "outputs": [],
   "source": [
    "# Example of Creating a bucket\n",
    "import logging\n",
    "from botocore.exceptions import ClientError\n",
    "\n",
    "\n",
    "def create_bucket(bucket_name, region=None):\n",
    "    \"\"\"Create an S3 bucket in a specified region\n",
    "\n",
    "    If a region is not specified, the bucket is created in the S3 default\n",
    "    region (us-east-1).\n",
    "\n",
    "    :param bucket_name: Bucket to create\n",
    "    :param region: String region to create bucket in, e.g., 'us-west-2'\n",
    "    :return: True if bucket created, else False\n",
    "    \"\"\"\n",
    "\n",
    "    # Create bucket\n",
    "    try:\n",
    "        if region is None:\n",
    "            s3_client = boto3.client('s3')\n",
    "            s3_client.create_bucket(Bucket=bucket_name)\n",
    "        else:\n",
    "            s3_client = boto3.client('s3', region_name=region)\n",
    "            location = {'LocationConstraint': region}\n",
    "            s3_client.create_bucket(Bucket=bucket_name,\n",
    "                                    CreateBucketConfiguration=location)\n",
    "    except ClientError as e:\n",
    "        logging.error(e)\n",
    "        return False\n",
    "    return True"
   ]
  },
  {
   "cell_type": "code",
   "execution_count": null,
   "id": "fb13ecbe",
   "metadata": {},
   "outputs": [],
   "source": []
  },
  {
   "cell_type": "code",
   "execution_count": null,
   "id": "9efb4ddd",
   "metadata": {},
   "outputs": [],
   "source": []
  }
 ],
 "metadata": {
  "kernelspec": {
   "display_name": "Python 3 (ipykernel)",
   "language": "python",
   "name": "python3"
  },
  "language_info": {
   "codemirror_mode": {
    "name": "ipython",
    "version": 3
   },
   "file_extension": ".py",
   "mimetype": "text/x-python",
   "name": "python",
   "nbconvert_exporter": "python",
   "pygments_lexer": "ipython3",
   "version": "3.9.13"
  }
 },
 "nbformat": 4,
 "nbformat_minor": 5
}
